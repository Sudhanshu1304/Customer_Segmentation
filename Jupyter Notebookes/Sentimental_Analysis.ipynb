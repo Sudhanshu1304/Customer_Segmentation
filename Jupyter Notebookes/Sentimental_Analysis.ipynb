{
  "nbformat": 4,
  "nbformat_minor": 0,
  "metadata": {
    "kernelspec": {
      "display_name": "Python 3",
      "language": "python",
      "name": "python3"
    },
    "language_info": {
      "codemirror_mode": {
        "name": "ipython",
        "version": 3
      },
      "file_extension": ".py",
      "mimetype": "text/x-python",
      "name": "python",
      "nbconvert_exporter": "python",
      "pygments_lexer": "ipython3",
      "version": "3.7.6"
    },
    "colab": {
      "name": "Sentimental_Analysis.ipynb",
      "provenance": [],
      "collapsed_sections": [
        "Pg9fOdxs8mdX",
        "NdsxLsjs8wjp",
        "Cg6C9hwn-HpC",
        "AqQwcIZRA01h"
      ]
    },
    "accelerator": "GPU"
  },
  "cells": [
    {
      "cell_type": "markdown",
      "metadata": {
        "id": "lfV6-ao_Bkmm"
      },
      "source": [
        "# Sentimental Analysis for Costomer Review"
      ]
    },
    {
      "cell_type": "markdown",
      "metadata": {
        "id": "Pg9fOdxs8mdX"
      },
      "source": [
        "## Importing Library "
      ]
    },
    {
      "cell_type": "code",
      "metadata": {
        "id": "88nyBpm7t2pM"
      },
      "source": [
        "import re\n",
        "import pickle\n",
        "import pandas as pd\n",
        "import numpy as np\n",
        "import tensorflow as tf\n",
        "from nltk.corpus import stopwords,wordnet\n",
        "from tensorflow.keras.models import Sequential\n",
        "from tensorflow.keras.layers import Dense, Embedding,LSTM,Dropout\n",
        "from nltk.stem import WordNetLemmatizer\n",
        "from nltk.tokenize import RegexpTokenizer\n",
        "from sklearn.feature_extraction.text import TfidfVectorizer\n",
        "from sklearn.preprocessing import OneHotEncoder\n",
        "from sklearn.model_selection import train_test_split"
      ],
      "execution_count": 1,
      "outputs": []
    },
    {
      "cell_type": "markdown",
      "metadata": {
        "id": "NdsxLsjs8wjp"
      },
      "source": [
        "## Data Preprocessing "
      ]
    },
    {
      "cell_type": "code",
      "metadata": {
        "id": "KSMxnmY1t2pP"
      },
      "source": [
        "data = pd.read_csv(\"/content/Review_Data.csv\")"
      ],
      "execution_count": 2,
      "outputs": []
    },
    {
      "cell_type": "code",
      "metadata": {
        "id": "4u4hIuFVt2pP",
        "colab": {
          "base_uri": "https://localhost:8080/",
          "height": 280
        },
        "outputId": "17a8ad9e-99b0-47ab-f8ac-7cc633ab4f09"
      },
      "source": [
        "data.head(2)"
      ],
      "execution_count": 3,
      "outputs": [
        {
          "output_type": "execute_result",
          "data": {
            "text/html": [
              "<div>\n",
              "<style scoped>\n",
              "    .dataframe tbody tr th:only-of-type {\n",
              "        vertical-align: middle;\n",
              "    }\n",
              "\n",
              "    .dataframe tbody tr th {\n",
              "        vertical-align: top;\n",
              "    }\n",
              "\n",
              "    .dataframe thead th {\n",
              "        text-align: right;\n",
              "    }\n",
              "</style>\n",
              "<table border=\"1\" class=\"dataframe\">\n",
              "  <thead>\n",
              "    <tr style=\"text-align: right;\">\n",
              "      <th></th>\n",
              "      <th>reviewId</th>\n",
              "      <th>userName</th>\n",
              "      <th>userImage</th>\n",
              "      <th>content</th>\n",
              "      <th>score</th>\n",
              "      <th>thumbsUpCount</th>\n",
              "      <th>reviewCreatedVersion</th>\n",
              "      <th>at</th>\n",
              "      <th>replyContent</th>\n",
              "      <th>repliedAt</th>\n",
              "      <th>sortOrder</th>\n",
              "      <th>appId</th>\n",
              "    </tr>\n",
              "  </thead>\n",
              "  <tbody>\n",
              "    <tr>\n",
              "      <th>0</th>\n",
              "      <td>gp:AOqpTOEhZuqSqqWnaKRgv-9ABYdajFUB0WugPGh-SG-...</td>\n",
              "      <td>Eric Tie</td>\n",
              "      <td>https://play-lh.googleusercontent.com/a-/AOh14...</td>\n",
              "      <td>I cannot open the app anymore</td>\n",
              "      <td>1</td>\n",
              "      <td>0</td>\n",
              "      <td>5.4.0.6</td>\n",
              "      <td>2020-10-27 21:24:41</td>\n",
              "      <td>NaN</td>\n",
              "      <td>NaN</td>\n",
              "      <td>newest</td>\n",
              "      <td>com.anydo</td>\n",
              "    </tr>\n",
              "    <tr>\n",
              "      <th>1</th>\n",
              "      <td>gp:AOqpTOH0WP4IQKBZ2LrdNmFy_YmpPCVrV3diEU9KGm3...</td>\n",
              "      <td>john alpha</td>\n",
              "      <td>https://play-lh.googleusercontent.com/a-/AOh14...</td>\n",
              "      <td>I have been begging for a refund from this app...</td>\n",
              "      <td>1</td>\n",
              "      <td>0</td>\n",
              "      <td>NaN</td>\n",
              "      <td>2020-10-27 14:03:28</td>\n",
              "      <td>Please note that from checking our records, yo...</td>\n",
              "      <td>2020-10-27 15:05:52</td>\n",
              "      <td>newest</td>\n",
              "      <td>com.anydo</td>\n",
              "    </tr>\n",
              "  </tbody>\n",
              "</table>\n",
              "</div>"
            ],
            "text/plain": [
              "                                            reviewId  ...      appId\n",
              "0  gp:AOqpTOEhZuqSqqWnaKRgv-9ABYdajFUB0WugPGh-SG-...  ...  com.anydo\n",
              "1  gp:AOqpTOH0WP4IQKBZ2LrdNmFy_YmpPCVrV3diEU9KGm3...  ...  com.anydo\n",
              "\n",
              "[2 rows x 12 columns]"
            ]
          },
          "metadata": {},
          "execution_count": 3
        }
      ]
    },
    {
      "cell_type": "code",
      "metadata": {
        "id": "SWFtWhOLt2pQ"
      },
      "source": [
        "data.drop(['reviewId','userImage','at','repliedAt'],inplace=True,axis=1)"
      ],
      "execution_count": 4,
      "outputs": []
    },
    {
      "cell_type": "code",
      "metadata": {
        "id": "Mc2JuHbEt2pR",
        "colab": {
          "base_uri": "https://localhost:8080/"
        },
        "outputId": "14b545e6-5c34-4f01-b63e-54880adef0ee"
      },
      "source": [
        "data.score.value_counts()"
      ],
      "execution_count": 5,
      "outputs": [
        {
          "output_type": "execute_result",
          "data": {
            "text/plain": [
              "5    2879\n",
              "4    2775\n",
              "1    2506\n",
              "2    2344\n",
              "3    1991\n",
              "Name: score, dtype: int64"
            ]
          },
          "metadata": {},
          "execution_count": 5
        }
      ]
    },
    {
      "cell_type": "code",
      "metadata": {
        "id": "WfNOHOcBt2pR"
      },
      "source": [
        "data.userName = data.userName.str.lower()"
      ],
      "execution_count": 6,
      "outputs": []
    },
    {
      "cell_type": "code",
      "metadata": {
        "id": "NAT5HUuPt2pS"
      },
      "source": [
        "data.content = data.content.str.lower()\n",
        "data.replyContent = data.replyContent.str.lower()"
      ],
      "execution_count": 7,
      "outputs": []
    },
    {
      "cell_type": "code",
      "metadata": {
        "id": "e4bbBRezt2pU",
        "colab": {
          "base_uri": "https://localhost:8080/"
        },
        "outputId": "fcbfd495-7fef-4aa2-d536-fbc037a96d44"
      },
      "source": [
        "import nltk\n",
        "nltk.download('stopwords')\n",
        "nltk.download('wordnet')"
      ],
      "execution_count": 8,
      "outputs": [
        {
          "output_type": "stream",
          "name": "stdout",
          "text": [
            "[nltk_data] Downloading package stopwords to /root/nltk_data...\n",
            "[nltk_data]   Unzipping corpora/stopwords.zip.\n",
            "[nltk_data] Downloading package wordnet to /root/nltk_data...\n",
            "[nltk_data]   Unzipping corpora/wordnet.zip.\n"
          ]
        },
        {
          "output_type": "execute_result",
          "data": {
            "text/plain": [
              "True"
            ]
          },
          "metadata": {},
          "execution_count": 8
        }
      ]
    },
    {
      "cell_type": "code",
      "metadata": {
        "id": "pATfBnmvt2pU"
      },
      "source": [
        "data.content= data.content.str.replace('[^\\w\\s\\.]','')"
      ],
      "execution_count": 9,
      "outputs": []
    },
    {
      "cell_type": "code",
      "metadata": {
        "id": "dzDBqmXUt2pW"
      },
      "source": [
        "text1 = data.content.values"
      ],
      "execution_count": 10,
      "outputs": []
    },
    {
      "cell_type": "code",
      "metadata": {
        "id": "QnCW7UJ-54-v"
      },
      "source": [
        "def preprocess_text(text):\n",
        "    # Tokenise words while ignoring punctuation\n",
        "    tokeniser = RegexpTokenizer(r'\\w+')\n",
        "    tokens = tokeniser.tokenize(text)\n",
        "    \n",
        "    # Lowercase and lemmatise \n",
        "    lemmatiser = WordNetLemmatizer()\n",
        "    lemmas = [lemmatiser.lemmatize(token.lower(), pos='v') for token in tokens]\n",
        "    \n",
        "    # Remove stopwords\n",
        "    keywords= [lemma for lemma in lemmas if lemma not in stopwords.words('english')]\n",
        "    keywords = ' '.join(keywords)\n",
        "    return keywords"
      ],
      "execution_count": 11,
      "outputs": []
    },
    {
      "cell_type": "code",
      "metadata": {
        "id": "jIPpyOsEt2pW"
      },
      "source": [
        "corpus=[]\n",
        "for i in range(len(text1)):\n",
        "    #text1[i]=text1[i].replace('@VirginAmerica','')\n",
        "    text1[i]=text1[i].replace(\"cant't\",'can not')\n",
        "    text1[i]=text1[i].replace(\"don't\",'do not')\n",
        "    text1[i]=text1[i].replace(\"dont\",'do not')\n",
        "    text1[i]=text1[i].replace(\"should't\",'should not')\n",
        "    text1[i]=text1[i].replace(\"could't\",'could not')\n",
        "    text1[i]=text1[i].replace(\"couldn\",'could not')\n",
        "    text1[i]=text1[i].replace(\"did't\",'did not')\n",
        "    text1[i]=text1[i].replace(\"didn\",'did not')\n",
        "    text1[i]=text1[i].replace(\"does't\",'does not')\n",
        "    text1[i]=text1[i].replace(\"doesn\",'does not')\n",
        "    text1[i]=text1[i].replace(\"ive\",'i have')\n",
        "    text1[i]=text1[i].replace(\"nott\",'not')\n",
        "    text1[i]=text1[i].replace(\"im\",'i am')\n",
        "\n",
        "    text1[i] = re.sub(r\"(?:\\@|https?\\://)\\S+\", \"\", text1[i])\n",
        "    #review=re.sub('[^a-zA-Z]',' ',text1[i])\n",
        "    review = preprocess_text(text1[i])\n",
        "    # review = review.lower()\n",
        "    # review = review.split()\n",
        "    #review = ' '.join(review)\n",
        "    \n",
        "    corpus.append(review)\n",
        "   "
      ],
      "execution_count": 12,
      "outputs": []
    },
    {
      "cell_type": "code",
      "metadata": {
        "id": "nZsLna12t2pW"
      },
      "source": [
        "token = tf.keras.preprocessing.text.Tokenizer(filters='!\"#$%&()*+,-./:;<=>?@[\\\\]^_`{|}~\\t\\n',lower=True,split=' ')"
      ],
      "execution_count": 14,
      "outputs": []
    },
    {
      "cell_type": "code",
      "metadata": {
        "id": "D6k_pCXTt2pX"
      },
      "source": [
        "xx = corpus\n",
        "token.fit_on_texts(xx)\n",
        "xx=token.texts_to_sequences(xx)"
      ],
      "execution_count": 15,
      "outputs": []
    },
    {
      "cell_type": "code",
      "metadata": {
        "id": "LJqo7YWct2pX"
      },
      "source": [
        "\n",
        "le=0\n",
        "mean = 0 \n",
        "len1=[]\n",
        "for i in range(len(xx)):\n",
        "  \n",
        "  e = xx[i]\n",
        "  mean = mean + len(e)\n",
        "  len1.append(len(e))\n",
        "  if le<len(e):\n",
        "    #print(i)\n",
        "    le=len(e)\n",
        "max_len=le\n"
      ],
      "execution_count": 16,
      "outputs": []
    },
    {
      "cell_type": "code",
      "metadata": {
        "id": "KcD3HiFQt2pX"
      },
      "source": [
        "t2=0\n",
        "for ele in xx:\n",
        "    if len(ele)>0:\n",
        "          if max(ele)>t2:\n",
        "            t2=max(ele)\n",
        "vocab=t2"
      ],
      "execution_count": 17,
      "outputs": []
    },
    {
      "cell_type": "code",
      "metadata": {
        "colab": {
          "base_uri": "https://localhost:8080/"
        },
        "id": "LSkT7M9zt2pY",
        "outputId": "9d4b220f-eafb-45bb-fa39-555a1c84efab"
      },
      "source": [
        "vocab"
      ],
      "execution_count": 18,
      "outputs": [
        {
          "output_type": "execute_result",
          "data": {
            "text/plain": [
              "10948"
            ]
          },
          "metadata": {},
          "execution_count": 18
        }
      ]
    },
    {
      "cell_type": "code",
      "metadata": {
        "id": "TYsuu0xpt2pY"
      },
      "source": [
        "df = {'lenths':len1}\n",
        "df = pd.DataFrame(df)"
      ],
      "execution_count": null,
      "outputs": []
    },
    {
      "cell_type": "code",
      "metadata": {
        "colab": {
          "base_uri": "https://localhost:8080/",
          "height": 282
        },
        "id": "FaL-Wo3Yt2pY",
        "outputId": "14227c83-ab67-448d-adfc-1731026adaed"
      },
      "source": [
        "df.lenths.value_counts().hist(bins=20)"
      ],
      "execution_count": null,
      "outputs": [
        {
          "output_type": "execute_result",
          "data": {
            "text/plain": [
              "<matplotlib.axes._subplots.AxesSubplot at 0x7f47806a41d0>"
            ]
          },
          "metadata": {},
          "execution_count": 26
        },
        {
          "output_type": "display_data",
          "data": {
            "image/png": "[encoded data removed]",
            "text/plain": [
              "<Figure size 432x288 with 1 Axes>"
            ]
          },
          "metadata": {
            "needs_background": "light"
          }
        }
      ]
    },
    {
      "cell_type": "code",
      "metadata": {
        "id": "g5NGXiyEt2pY"
      },
      "source": [
        "xx1=tf.keras.preprocessing.sequence.pad_sequences(xx,maxlen=30,padding='post')"
      ],
      "execution_count": 19,
      "outputs": []
    },
    {
      "cell_type": "code",
      "metadata": {
        "id": "HALpbSgSv4EK"
      },
      "source": [
        "enc = OneHotEncoder()\n",
        "th = enc.fit_transform(np.array(data.score).reshape((len(data.score),1)))"
      ],
      "execution_count": 21,
      "outputs": []
    },
    {
      "cell_type": "code",
      "metadata": {
        "id": "L0npcqMBwaA-"
      },
      "source": [
        "th = th.toarray()"
      ],
      "execution_count": 22,
      "outputs": []
    },
    {
      "cell_type": "code",
      "metadata": {
        "id": "qTawQCE6t2pZ"
      },
      "source": [
        "x_train,x_test,y_train,y_test=train_test_split(xx1,th,test_size=0.20,random_state=0)"
      ],
      "execution_count": 23,
      "outputs": []
    },
    {
      "cell_type": "markdown",
      "metadata": {
        "id": "Cg6C9hwn-HpC"
      },
      "source": [
        "## Model Building"
      ]
    },
    {
      "cell_type": "markdown",
      "metadata": {
        "id": "chsbfN-N-TNq"
      },
      "source": [
        "<strong>\n",
        "A LSTM Based Deep Nueral Network Model which  usese self created <strong> Embedding</strong>\n",
        "</strong>"
      ]
    },
    {
      "cell_type": "code",
      "metadata": {
        "colab": {
          "base_uri": "https://localhost:8080/"
        },
        "id": "GIx4FtnWt2pZ",
        "outputId": "e8146b35-ddf3-4cf1-d83f-0415deb6d3b2"
      },
      "source": [
        "# A LSTM Bases Model \n",
        "model=Sequential() \n",
        "model.add(Embedding(input_dim=13342+1,output_dim=100,input_length=30))\n",
        "model.add(LSTM(100))\n",
        "model.add(Dropout(0.3))\n",
        "model.add(Dense(125, activation='relu'))\n",
        "model.add(Dropout(0.3))\n",
        "model.add(Dense(5, activation='sigmoid'))\n",
        "model.summary()\n",
        "# model=Sequential() \n",
        "# model.add(Embedding(input_dim=13342+1,output_dim=100,input_length=max_len))\n",
        "# model.add(LSTM(50, dropout=0.2, recurrent_dropout=0.2))\n",
        "# model.add(Dense(5, activation='sigmoid'),sparse=True)"
      ],
      "execution_count": 33,
      "outputs": [
        {
          "output_type": "stream",
          "name": "stdout",
          "text": [
            "Model: \"sequential_3\"\n",
            "_________________________________________________________________\n",
            "Layer (type)                 Output Shape              Param #   \n",
            "=================================================================\n",
            "embedding_3 (Embedding)      (None, 30, 100)           1334300   \n",
            "_________________________________________________________________\n",
            "lstm_3 (LSTM)                (None, 100)               80400     \n",
            "_________________________________________________________________\n",
            "dropout_5 (Dropout)          (None, 100)               0         \n",
            "_________________________________________________________________\n",
            "dense_5 (Dense)              (None, 125)               12625     \n",
            "_________________________________________________________________\n",
            "dropout_6 (Dropout)          (None, 125)               0         \n",
            "_________________________________________________________________\n",
            "dense_6 (Dense)              (None, 5)                 630       \n",
            "=================================================================\n",
            "Total params: 1,427,955\n",
            "Trainable params: 1,427,955\n",
            "Non-trainable params: 0\n",
            "_________________________________________________________________\n"
          ]
        }
      ]
    },
    {
      "cell_type": "code",
      "metadata": {
        "id": "fQiqarAst2pZ"
      },
      "source": [
        "model.compile(loss='categorical_crossentropy',\n",
        "              optimizer='adam',\n",
        "              metrics=['accuracy'])"
      ],
      "execution_count": 34,
      "outputs": []
    },
    {
      "cell_type": "code",
      "metadata": {
        "colab": {
          "base_uri": "https://localhost:8080/"
        },
        "id": "8tr4Q5v9t2pZ",
        "outputId": "61d68114-60fe-4b87-fe83-87ec39a77f2c"
      },
      "source": [
        "mf=model.fit(x_train, y_train,\n",
        "          batch_size=80,\n",
        "          epochs=10,\n",
        "          validation_data=(x_test,y_test))"
      ],
      "execution_count": 35,
      "outputs": [
        {
          "output_type": "stream",
          "name": "stdout",
          "text": [
            "Epoch 1/10\n",
            "125/125 [==============================] - 4s 19ms/step - loss: 1.4721 - accuracy: 0.3136 - val_loss: 1.3607 - val_accuracy: 0.3758\n",
            "Epoch 2/10\n",
            "125/125 [==============================] - 2s 15ms/step - loss: 1.2556 - accuracy: 0.4172 - val_loss: 1.2987 - val_accuracy: 0.4218\n",
            "Epoch 3/10\n",
            "125/125 [==============================] - 2s 15ms/step - loss: 1.1533 - accuracy: 0.4807 - val_loss: 1.2752 - val_accuracy: 0.4450\n",
            "Epoch 4/10\n",
            "125/125 [==============================] - 2s 16ms/step - loss: 1.0500 - accuracy: 0.5516 - val_loss: 1.3306 - val_accuracy: 0.4582\n",
            "Epoch 5/10\n",
            "125/125 [==============================] - 2s 15ms/step - loss: 0.9659 - accuracy: 0.6031 - val_loss: 1.3286 - val_accuracy: 0.4530\n",
            "Epoch 6/10\n",
            "125/125 [==============================] - 2s 14ms/step - loss: 0.8950 - accuracy: 0.6446 - val_loss: 1.4299 - val_accuracy: 0.4526\n",
            "Epoch 7/10\n",
            "125/125 [==============================] - 2s 15ms/step - loss: 0.8264 - accuracy: 0.6786 - val_loss: 1.4535 - val_accuracy: 0.4446\n",
            "Epoch 8/10\n",
            "125/125 [==============================] - 2s 15ms/step - loss: 0.7800 - accuracy: 0.7066 - val_loss: 1.5357 - val_accuracy: 0.4274\n",
            "Epoch 9/10\n",
            "125/125 [==============================] - 2s 15ms/step - loss: 0.7221 - accuracy: 0.7236 - val_loss: 1.5706 - val_accuracy: 0.4382\n",
            "Epoch 10/10\n",
            "125/125 [==============================] - 2s 14ms/step - loss: 0.6809 - accuracy: 0.7421 - val_loss: 1.7074 - val_accuracy: 0.4350\n"
          ]
        }
      ]
    },
    {
      "cell_type": "markdown",
      "metadata": {
        "id": "AqQwcIZRA01h"
      },
      "source": [
        "## Storing the Model and Tokenizer"
      ]
    },
    {
      "cell_type": "code",
      "metadata": {
        "colab": {
          "base_uri": "https://localhost:8080/"
        },
        "id": "7bLY_2irt2pa",
        "outputId": "f1f390fc-bb8c-4f5d-cbcb-6cc8d968e1a7"
      },
      "source": [
        "model.save('model_score_1')"
      ],
      "execution_count": 36,
      "outputs": [
        {
          "output_type": "stream",
          "name": "stderr",
          "text": [
            "WARNING:absl:Found untraced functions such as lstm_cell_3_layer_call_and_return_conditional_losses, lstm_cell_3_layer_call_fn, lstm_cell_3_layer_call_fn, lstm_cell_3_layer_call_and_return_conditional_losses, lstm_cell_3_layer_call_and_return_conditional_losses while saving (showing 5 of 5). These functions will not be directly callable after loading.\n"
          ]
        },
        {
          "output_type": "stream",
          "name": "stdout",
          "text": [
            "INFO:tensorflow:Assets written to: model_score_1/assets\n"
          ]
        },
        {
          "output_type": "stream",
          "name": "stderr",
          "text": [
            "INFO:tensorflow:Assets written to: model_score_1/assets\n"
          ]
        }
      ]
    },
    {
      "cell_type": "code",
      "metadata": {
        "id": "3W4jEKxp5e6T"
      },
      "source": [
        "\n",
        "with open('tokenizer.pickle', 'wb') as handle:\n",
        "    pickle.dump(token, handle, protocol=pickle.HIGHEST_PROTOCOL)"
      ],
      "execution_count": null,
      "outputs": []
    },
    {
      "cell_type": "code",
      "metadata": {
        "id": "zhmmct7Y7DXt"
      },
      "source": [
        "sent = ['hello how are you it was good']"
      ],
      "execution_count": null,
      "outputs": []
    },
    {
      "cell_type": "code",
      "metadata": {
        "id": "lKGmApuxAgaL"
      },
      "source": [
        "cc = pre(sent)"
      ],
      "execution_count": null,
      "outputs": []
    },
    {
      "cell_type": "code",
      "metadata": {
        "id": "sDptZNEsBPtk"
      },
      "source": [
        "with open('tokenizer.pickle', 'rb') as handle:\n",
        "    tokenizer2 = pickle.load(handle)"
      ],
      "execution_count": null,
      "outputs": []
    },
    {
      "cell_type": "code",
      "metadata": {
        "id": "7LPC48uOBPwL"
      },
      "source": [
        "vv = tokenizer2.texts_to_sequences(cc)"
      ],
      "execution_count": null,
      "outputs": []
    },
    {
      "cell_type": "code",
      "metadata": {
        "id": "RTLlW-CPBhUS"
      },
      "source": [
        "xx1=tf.keras.preprocessing.sequence.pad_sequences(vv,maxlen=40,padding='post')"
      ],
      "execution_count": null,
      "outputs": []
    },
    {
      "cell_type": "code",
      "metadata": {
        "colab": {
          "base_uri": "https://localhost:8080/"
        },
        "id": "uUbnlWLSBhW6",
        "outputId": "92da7438-5a0b-4f35-ab9c-f99d6dfe109b"
      },
      "source": [
        "xx1"
      ],
      "execution_count": null,
      "outputs": [
        {
          "output_type": "execute_result",
          "data": {
            "text/plain": [
              "array([[1493,   87,   42,   14,    4,   37,   25,    0,    0,    0,    0,\n",
              "           0,    0,    0,    0,    0,    0,    0,    0,    0,    0,    0,\n",
              "           0,    0,    0,    0,    0,    0,    0,    0,    0,    0,    0,\n",
              "           0,    0,    0,    0,    0,    0,    0]], dtype=int32)"
            ]
          },
          "metadata": {},
          "execution_count": 78
        }
      ]
    },
    {
      "cell_type": "code",
      "metadata": {
        "id": "UjrC4kiD_znY"
      },
      "source": [
        "mod =keras.models.load_model('model_score_1')"
      ],
      "execution_count": null,
      "outputs": []
    },
    {
      "cell_type": "code",
      "metadata": {
        "id": "_-jTN9Rw_79w"
      },
      "source": [
        "p = mod.predict(xx1)"
      ],
      "execution_count": null,
      "outputs": []
    },
    {
      "cell_type": "code",
      "metadata": {
        "colab": {
          "base_uri": "https://localhost:8080/"
        },
        "id": "PujUM2ZQBn0o",
        "outputId": "957f22a3-5d33-4ff0-b070-9f948835e222"
      },
      "source": [
        "np.argmax(p)"
      ],
      "execution_count": null,
      "outputs": [
        {
          "output_type": "execute_result",
          "data": {
            "text/plain": [
              "0"
            ]
          },
          "metadata": {},
          "execution_count": 81
        }
      ]
    },
    {
      "cell_type": "code",
      "metadata": {
        "id": "7FlwDHTlB913"
      },
      "source": [
        "def predict(sent):\n",
        "  cc = pre(sent)\n",
        "  with open('tokenizer.pickle', 'rb') as handle:\n",
        "    tokenizer2 = pickle.load(handle)\n",
        "  vv = tokenizer2.texts_to_sequences(cc)\n",
        "  xx1=tf.keras.preprocessing.sequence.pad_sequences(vv,maxlen=40,padding='post')\n",
        "  mod =keras.models.load_model('model_score_1')\n",
        "  p = mod.predict(xx1)\n",
        "  return np.argmax(p)"
      ],
      "execution_count": null,
      "outputs": []
    },
    {
      "cell_type": "code",
      "metadata": {
        "colab": {
          "base_uri": "https://localhost:8080/"
        },
        "id": "DRgiL4IFCRv3",
        "outputId": "89c9d24e-ac72-4a8c-d271-784f8272dbbf"
      },
      "source": [
        "predict(sent)"
      ],
      "execution_count": null,
      "outputs": [
        {
          "output_type": "stream",
          "name": "stdout",
          "text": [
            "WARNING:tensorflow:Model was constructed with shape (None, 60) for input KerasTensor(type_spec=TensorSpec(shape=(None, 60), dtype=tf.float32, name='embedding_input'), name='embedding_input', description=\"created by layer 'embedding_input'\"), but it was called on an input with incompatible shape (None, 40).\n"
          ]
        },
        {
          "output_type": "stream",
          "name": "stderr",
          "text": [
            "WARNING:tensorflow:Model was constructed with shape (None, 60) for input KerasTensor(type_spec=TensorSpec(shape=(None, 60), dtype=tf.float32, name='embedding_input'), name='embedding_input', description=\"created by layer 'embedding_input'\"), but it was called on an input with incompatible shape (None, 40).\n"
          ]
        },
        {
          "output_type": "execute_result",
          "data": {
            "text/plain": [
              "0"
            ]
          },
          "metadata": {},
          "execution_count": 84
        }
      ]
    },
    {
      "cell_type": "code",
      "metadata": {
        "id": "YSIiMGLgCUT_",
        "colab": {
          "base_uri": "https://localhost:8080/"
        },
        "outputId": "50be71f9-3767-4a91-a0bb-ac3197371f9e"
      },
      "source": [
        "!zip -r /content/model_score_3.zip /content/model_score_1"
      ],
      "execution_count": 37,
      "outputs": [
        {
          "output_type": "stream",
          "name": "stdout",
          "text": [
            "  adding: content/model_score_1/ (stored 0%)\n",
            "  adding: content/model_score_1/assets/ (stored 0%)\n",
            "  adding: content/model_score_1/variables/ (stored 0%)\n",
            "  adding: content/model_score_1/variables/variables.data-00000-of-00001 (deflated 27%)\n",
            "  adding: content/model_score_1/variables/variables.index (deflated 62%)\n",
            "  adding: content/model_score_1/saved_model.pb (deflated 89%)\n",
            "  adding: content/model_score_1/keras_metadata.pb (deflated 88%)\n"
          ]
        }
      ]
    },
    {
      "cell_type": "code",
      "metadata": {
        "id": "3ssH9joGC7MV"
      },
      "source": [
        ""
      ],
      "execution_count": null,
      "outputs": []
    },
    {
      "cell_type": "markdown",
      "metadata": {
        "id": "AxmZ78omBftQ"
      },
      "source": [
        ""
      ]
    },
    {
      "cell_type": "markdown",
      "metadata": {
        "id": "hgALe3VXBjBF"
      },
      "source": [
        ""
      ]
    }
  ]
}